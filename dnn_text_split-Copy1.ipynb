{
 "cells": [
  {
   "cell_type": "code",
   "execution_count": 1,
   "metadata": {},
   "outputs": [
    {
     "name": "stdout",
     "output_type": "stream",
     "text": [
      "1.6.0\n"
     ]
    }
   ],
   "source": [
    "import pandas as pd\n",
    "import tensorflow as tf\n",
    "\n",
    "from utils.all import *\n",
    "\n",
    "print(tf.VERSION)"
   ]
  },
  {
   "cell_type": "code",
   "execution_count": 2,
   "metadata": {},
   "outputs": [
    {
     "name": "stdout",
     "output_type": "stream",
     "text": [
      "(82731, 46)\n",
      "45\n"
     ]
    }
   ],
   "source": [
    "#加载数据集\n",
    "x_train, y_train, x_test, y_test = load_dataset1('d:/abc11.csv')\n",
    "#特征向量维度\n",
    "m_samples, n_features = x_train.shape\n",
    "print(n_features)"
   ]
  },
  {
   "cell_type": "code",
   "execution_count": 3,
   "metadata": {
    "collapsed": true
   },
   "outputs": [],
   "source": [
    "#网络结构\n",
    "_x = tf.placeholder(tf.float32, shape=(None, n_features), name='input')\n",
    "_y = tf.placeholder(tf.float32, shape=(None, 1))\n",
    "\n",
    "L1 = tf.layers.Dense(20, activation=tf.nn.relu)(_x)\n",
    "L2 = tf.layers.Dense(10, activation=tf.nn.relu)(L1)\n",
    "L3 = tf.layers.Dense(1)(L2)\n",
    "logits = tf.nn.sigmoid(L3, name='output')\n",
    "y_predict = tf.where(logits < 0.5, tf.zeros_like(logits), tf.ones_like(logits), name='y_predict')"
   ]
  },
  {
   "cell_type": "code",
   "execution_count": 4,
   "metadata": {
    "collapsed": true
   },
   "outputs": [],
   "source": [
    "loss_op = tf.reduce_mean(tf.nn.sigmoid_cross_entropy_with_logits(labels=_y, logits=L3))\n",
    "train_op = tf.train.AdamOptimizer(learning_rate=0.001).minimize(loss_op)"
   ]
  },
  {
   "cell_type": "code",
   "execution_count": 5,
   "metadata": {
    "collapsed": true
   },
   "outputs": [],
   "source": [
    "precision_op = 1 - tf.reduce_mean(tf.abs(y_predict - _y))\n",
    "c = _y * y_predict\n",
    "accuracy_op = tf.count_nonzero(c) / tf.count_nonzero(y_predict)\n",
    "recall_op = tf.count_nonzero(c) / tf.count_nonzero(_y)"
   ]
  },
  {
   "cell_type": "code",
   "execution_count": 6,
   "metadata": {
    "collapsed": true
   },
   "outputs": [],
   "source": [
    "init_op = tf.global_variables_initializer()"
   ]
  },
  {
   "cell_type": "code",
   "execution_count": 7,
   "metadata": {},
   "outputs": [
    {
     "name": "stdout",
     "output_type": "stream",
     "text": [
      "epoch:  0001 loss:  0.8968 precision:  0.1602 loss_test:  0.8995 precision_test:  0.1597\n",
      "epoch:  0101 loss:  0.1181 precision:  0.9703 loss_test:  0.1161 precision_test:  0.9708\n",
      "epoch:  0201 loss:  0.0415 precision:  0.9943 loss_test:  0.0390 precision_test:  0.9944\n",
      "epoch:  0301 loss:  0.0242 precision:  0.9965 loss_test:  0.0219 precision_test:  0.9969\n",
      "epoch:  0401 loss:  0.0166 precision:  0.9974 loss_test:  0.0146 precision_test:  0.9976\n",
      "epoch:  0501 loss:  0.0128 precision:  0.9978 loss_test:  0.0112 precision_test:  0.9977\n",
      "epoch:  0601 loss:  0.0107 precision:  0.9979 loss_test:  0.0094 precision_test:  0.9979\n",
      "epoch:  0701 loss:  0.0093 precision:  0.9980 loss_test:  0.0085 precision_test:  0.9979\n",
      "epoch:  0801 loss:  0.0084 precision:  0.9981 loss_test:  0.0079 precision_test:  0.9981\n",
      "epoch:  0901 loss:  0.0077 precision:  0.9983 loss_test:  0.0075 precision_test:  0.9983\n",
      "epoch:  1001 loss:  0.0071 precision:  0.9983 loss_test:  0.0071 precision_test:  0.9983\n",
      "epoch:  1101 loss:  0.0066 precision:  0.9984 loss_test:  0.0067 precision_test:  0.9984\n",
      "epoch:  1201 loss:  0.0062 precision:  0.9984 loss_test:  0.0064 precision_test:  0.9984\n",
      "epoch:  1301 loss:  0.0059 precision:  0.9985 loss_test:  0.0063 precision_test:  0.9983\n",
      "epoch:  1401 loss:  0.0056 precision:  0.9986 loss_test:  0.0062 precision_test:  0.9983\n",
      "acc and recall： [0.9854327335047129, 0.9721048182586645]\n",
      "acc_test and recall_test： [0.9616858237547893, 0.984313725490196]\n",
      "INFO:tensorflow:No assets to save.\n",
      "INFO:tensorflow:No assets to write.\n",
      "INFO:tensorflow:SavedModel written to: b'd:/tmp/m_full89\\\\saved_model.pb'\n"
     ]
    }
   ],
   "source": [
    "with tf.Session() as session:\n",
    "    session.run(init_op)\n",
    "    for i in range(1500):\n",
    "        session.run(train_op, feed_dict={_x: x_train, _y: y_train})\n",
    "        loss, precision = session.run([loss_op, precision_op], feed_dict={_x: x_train, _y: y_train})\n",
    "        loss_test, precision_test = session.run([loss_op, precision_op], feed_dict={_x: x_test, _y: y_test})\n",
    "        if i % 100 == 0:\n",
    "            print('epoch: ', '%04d' % (i + 1), 'loss: ', \"{:.4f}\".format(loss), 'precision: ', \"{:.4f}\".format(precision),\n",
    "                  'loss_test: ', \"{:.4f}\".format(loss_test), 'precision_test: ', \"{:.4f}\".format(precision_test))\n",
    "    print('acc and recall：', session.run([accuracy_op, recall_op], feed_dict={_x: x_train, _y: y_train}))\n",
    "    print('acc_test and recall_test：', session.run([accuracy_op, recall_op], feed_dict={_x: x_test, _y: y_test}))\n",
    "    #保存模型\n",
    "#     builder = tf.saved_model.builder.SavedModelBuilder('d:/tmp/m_full7')\n",
    "#     builder.add_meta_graph_and_variables(\n",
    "#         session,\n",
    "#         [tf.saved_model.tag_constants.SERVING]\n",
    "#     )\n",
    "#     builder.save()\n",
    "    save_model(session, 'd:/tmp/m_full89')"
   ]
  },
  {
   "cell_type": "code",
   "execution_count": null,
   "metadata": {
    "collapsed": true
   },
   "outputs": [],
   "source": [
    "np.count_nonzero(y_train)"
   ]
  },
  {
   "cell_type": "code",
   "execution_count": null,
   "metadata": {
    "collapsed": true
   },
   "outputs": [],
   "source": [
    "np.count_nonzero(y_test)"
   ]
  },
  {
   "cell_type": "code",
   "execution_count": null,
   "metadata": {
    "collapsed": true
   },
   "outputs": [],
   "source": [
    "print('数据集大小：', np.size(y_train)+np.size(y_test))\n",
    "print('训练集大小：', np.size(y_train), '，非0数：', np.count_nonzero(y_train))\n",
    "print('测试集大小：', np.size(y_test), '，非0数：', np.count_nonzero(y_test))"
   ]
  },
  {
   "cell_type": "code",
   "execution_count": null,
   "metadata": {
    "collapsed": true
   },
   "outputs": [],
   "source": []
  }
 ],
 "metadata": {
  "kernelspec": {
   "display_name": "Python 3",
   "language": "python",
   "name": "python3"
  },
  "language_info": {
   "codemirror_mode": {
    "name": "ipython",
    "version": 3
   },
   "file_extension": ".py",
   "mimetype": "text/x-python",
   "name": "python",
   "nbconvert_exporter": "python",
   "pygments_lexer": "ipython3",
   "version": "3.6.3"
  }
 },
 "nbformat": 4,
 "nbformat_minor": 2
}
