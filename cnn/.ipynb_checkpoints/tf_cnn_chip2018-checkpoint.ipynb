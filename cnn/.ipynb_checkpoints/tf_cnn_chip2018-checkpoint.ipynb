{
 "cells": [
  {
   "cell_type": "code",
   "execution_count": null,
   "metadata": {},
   "outputs": [],
   "source": [
    "import tensorflow as tf\n",
    "from sklearn.externals import joblib\n",
    "import keras\n",
    "import sys\n",
    "sys.path.append('..')\n",
    "from utils.word2vec_fast import *"
   ]
  },
  {
   "cell_type": "code",
   "execution_count": null,
   "metadata": {},
   "outputs": [],
   "source": [
    "# 加载词向量\n",
    "wv = Word2VecFast.load_word2vec_format(file_path='../data/chip2018/word_embedding.txt', word_shape=300)\n",
    "print('word_embedding shape: ', wv.word_shape())\n",
    "word_size, embedding_size = wv.word_embeddings().shape[0], wv.word_embeddings().shape[1]"
   ]
  },
  {
   "cell_type": "code",
   "execution_count": null,
   "metadata": {},
   "outputs": [],
   "source": [
    "# 加载数据集\n",
    "dataset = joblib.load(filename='../data/chip2018/chip2018.data2')\n",
    "X_train, Y_train, X_test, Y_test = dataset['X_train'], dataset['Y_train'], dataset['X_test'], dataset['Y_test']\n",
    "print('X_train shape:', X_train.shape)\n",
    "Y_train = keras.utils.to_categorical(Y_train, 2)\n",
    "Y_test = keras.utils.to_categorical(Y_test, 2)"
   ]
  },
  {
   "cell_type": "code",
   "execution_count": null,
   "metadata": {
    "collapsed": true
   },
   "outputs": [],
   "source": [
    "sequence_length = 45 # 句子最大长度\n",
    "num_filters = 128\n",
    "num_classes = 2\n",
    "num_epoch = 5\n",
    "batch_size = 500"
   ]
  },
  {
   "cell_type": "code",
   "execution_count": null,
   "metadata": {
    "collapsed": true
   },
   "outputs": [],
   "source": [
    "input_x1 = tf.placeholder(tf.int32, [None, sequence_length], name=\"input_x1\")\n",
    "input_x2 = tf.placeholder(tf.int32, [None, sequence_length], name=\"input_x2\")\n",
    "input_y = tf.placeholder(tf.float32, [None, num_classes], name=\"input_y\")\n",
    "dropout_keep_prob = tf.placeholder(tf.float32, name=\"dropout_keep_prob\")"
   ]
  },
  {
   "cell_type": "code",
   "execution_count": null,
   "metadata": {
    "collapsed": true
   },
   "outputs": [],
   "source": [
    "# 嵌入层\n",
    "WL_word2vec = tf.constant(wv.word_embeddings(), dtype=tf.float32)"
   ]
  },
  {
   "cell_type": "code",
   "execution_count": null,
   "metadata": {},
   "outputs": [],
   "source": [
    "WL_word_embedding_x1 = tf.nn.embedding_lookup(WL_word2vec, input_x1)\n",
    "WL_word_embedding_expanded_x1 = tf.expand_dims(WL_word_embedding_x1, -1)\n",
    "print(WL_word_embedding_expanded_x1)\n",
    "\n",
    "WL_word_embedding_x2 = tf.nn.embedding_lookup(WL_word2vec, input_x2)\n",
    "WL_word_embedding_expanded_x2 = tf.expand_dims(WL_word_embedding_x2, -1)\n",
    "print(WL_word_embedding_expanded_x2)"
   ]
  },
  {
   "cell_type": "code",
   "execution_count": null,
   "metadata": {},
   "outputs": [],
   "source": [
    "def cnn(x_):\n",
    "    W = tf.Variable(tf.truncated_normal([3, embedding_size, 1, num_filters], stddev=0.1), dtype=tf.float32)\n",
    "    b = tf.Variable(tf.constant(0.1, shape=[num_filters]))\n",
    "    conv = tf.nn.conv2d(input=x_, filter=W, strides=[1, 1, 1, 1], padding=\"VALID\")\n",
    "    h = tf.nn.relu(tf.nn.bias_add(conv, b))\n",
    "    print(h)\n",
    "    # Max-pooling over the outputs\n",
    "    pooled = tf.nn.max_pool(h, ksize=[1, sequence_length - 2, 1, 1], strides=[1, 1, 1, 1], padding='VALID')\n",
    "    return pooled"
   ]
  },
  {
   "cell_type": "code",
   "execution_count": null,
   "metadata": {},
   "outputs": [],
   "source": [
    "pool1 = cnn(WL_word_embedding_expanded_x1)\n",
    "pool2 = cnn(WL_word_embedding_expanded_x2)\n",
    "\n",
    "h_pool_flat1 = tf.reshape(pool1, [-1, num_filters])\n",
    "h_pool_flat2 = tf.reshape(pool2, [-1, num_filters])\n",
    "\n",
    "h_drop1 = tf.nn.dropout(h_pool_flat1, dropout_keep_prob)\n",
    "h_drop2 = tf.nn.dropout(h_pool_flat2, dropout_keep_prob)\n",
    "\n",
    "# output = tf.abs(h_drop1 - h_drop2)\n",
    "# print(output)\n",
    "output = tf.nn.l2_normalize(h_drop1) * tf.nn.l2_normalize(h_drop2)"
   ]
  },
  {
   "cell_type": "code",
   "execution_count": null,
   "metadata": {
    "collapsed": true
   },
   "outputs": [],
   "source": [
    "W = tf.Variable(tf.truncated_normal([num_filters, num_classes], stddev=0.1))\n",
    "b = tf.Variable(tf.constant(0.1, shape=[num_classes]))\n",
    "logits = tf.nn.xw_plus_b(output, W, b)\n",
    "predictions = tf.nn.softmax(logits)\n",
    "\n",
    "correct_predict = tf.equal(tf.argmax(predictions, axis=1), tf.argmax(input_y, axis=1))\n",
    "acc_op = tf.reduce_mean(tf.cast(correct_predict, tf.float32))"
   ]
  },
  {
   "cell_type": "code",
   "execution_count": null,
   "metadata": {
    "collapsed": true
   },
   "outputs": [],
   "source": [
    "loss_op = tf.reduce_mean(tf.nn.softmax_cross_entropy_with_logits_v2(logits=logits, labels=input_y))\n",
    "train_op = tf.train.AdamOptimizer(learning_rate=0.0005).minimize(loss_op)\n",
    "init_op = tf.global_variables_initializer()"
   ]
  },
  {
   "cell_type": "code",
   "execution_count": null,
   "metadata": {
    "collapsed": true
   },
   "outputs": [],
   "source": [
    "def next_batch(i):\n",
    "    a = i * batch_size\n",
    "    b = (i+1) * batch_size\n",
    "    return (X_train[a:b], Y_train[a:b])"
   ]
  },
  {
   "cell_type": "code",
   "execution_count": null,
   "metadata": {
    "collapsed": true
   },
   "outputs": [],
   "source": [
    "total_batch = int(X_train.shape[0]/batch_size)"
   ]
  },
  {
   "cell_type": "code",
   "execution_count": null,
   "metadata": {},
   "outputs": [],
   "source": [
    "with tf.Session() as sess:\n",
    "    sess.run(init_op)\n",
    "    \n",
    "    for epoch in range(num_epoch):\n",
    "        for i in range(total_batch):\n",
    "            batch_xs, batch_ys = next_batch(i)\n",
    "            sess.run(train_op, feed_dict={input_x1: batch_xs[:,0:45], input_x2: batch_xs[:,45:], input_y: batch_ys, dropout_keep_prob: 0.8})\n",
    "            c, acc = sess.run([loss_op, acc_op], feed_dict={input_x1: batch_xs[:,0:45], input_x2: batch_xs[:,45:], input_y: batch_ys, dropout_keep_prob: 0.8})\n",
    "            c1, acc1 = sess.run([loss_op, acc_op], feed_dict={input_x1: X_test[:,0:45], input_x2: X_test[:,45:], input_y: Y_test, dropout_keep_prob: 0.8})\n",
    "        print(\"Epoch:\", '%04d' % (epoch+1), \"loss=\", \"{:.9f}\".format(c), \"accuracy=\", \"{:.9f}\".format(acc), \"test_loss=\", \"{:.9f}\".format(c1), \"test_accuracy=\", \"{:.9f}\".format(acc1))\n",
    "    print(\"Optimization Finished!\")"
   ]
  },
  {
   "cell_type": "code",
   "execution_count": null,
   "metadata": {
    "collapsed": true
   },
   "outputs": [],
   "source": []
  }
 ],
 "metadata": {
  "kernelspec": {
   "display_name": "Python 3",
   "language": "python",
   "name": "python3"
  },
  "language_info": {
   "codemirror_mode": {
    "name": "ipython",
    "version": 3
   },
   "file_extension": ".py",
   "mimetype": "text/x-python",
   "name": "python",
   "nbconvert_exporter": "python",
   "pygments_lexer": "ipython3",
   "version": "3.6.3"
  }
 },
 "nbformat": 4,
 "nbformat_minor": 2
}
