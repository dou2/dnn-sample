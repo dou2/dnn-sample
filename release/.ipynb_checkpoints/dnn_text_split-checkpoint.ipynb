{
 "cells": [
  {
   "cell_type": "code",
   "execution_count": null,
   "metadata": {},
   "outputs": [],
   "source": [
    "import pandas as pd\n",
    "import tensorflow as tf\n",
    "\n",
    "from utils.all import *\n",
    "\n",
    "print(tf.VERSION)"
   ]
  },
  {
   "cell_type": "code",
   "execution_count": null,
   "metadata": {},
   "outputs": [],
   "source": [
    "#加载数据集\n",
    "x_train, y_train, x_test, y_test = load_dataset('d:/data_by_id1.csv')\n",
    "#特征向量维度\n",
    "m_samples, n_features = x_train.shape\n",
    "print(n_features)"
   ]
  },
  {
   "cell_type": "code",
   "execution_count": null,
   "metadata": {
    "collapsed": true
   },
   "outputs": [],
   "source": [
    "#网络结构\n",
    "_x = tf.placeholder(tf.float32, shape=(None, n_features), name='input')\n",
    "_y = tf.placeholder(tf.float32, shape=(None, 1))\n",
    "\n",
    "L1 = tf.layers.Dense(10, activation=tf.nn.relu)(_x)\n",
    "L2 = tf.layers.Dense(5, activation=tf.nn.relu)(L1)\n",
    "L3 = tf.layers.Dense(1)(L2)\n",
    "logits = tf.nn.sigmoid(L3)\n",
    "y_predict = tf.where(logits < 0.5, tf.zeros_like(logits), tf.ones_like(logits), name='output')"
   ]
  },
  {
   "cell_type": "code",
   "execution_count": null,
   "metadata": {
    "collapsed": true
   },
   "outputs": [],
   "source": [
    "loss_op = tf.reduce_mean(tf.nn.sigmoid_cross_entropy_with_logits(labels=_y, logits=L3))\n",
    "train_op = tf.train.AdamOptimizer(learning_rate=0.005).minimize(loss_op)"
   ]
  },
  {
   "cell_type": "code",
   "execution_count": null,
   "metadata": {
    "collapsed": true
   },
   "outputs": [],
   "source": [
    "precision_op = 1 - tf.reduce_mean(tf.abs(y_predict - _y))\n",
    "c = _y * y_predict\n",
    "accuracy_op = tf.count_nonzero(c) / tf.count_nonzero(y_predict)\n",
    "recall_op = tf.count_nonzero(c) / tf.count_nonzero(_y)"
   ]
  },
  {
   "cell_type": "code",
   "execution_count": null,
   "metadata": {
    "collapsed": true
   },
   "outputs": [],
   "source": [
    "init_op = tf.global_variables_initializer()"
   ]
  },
  {
   "cell_type": "code",
   "execution_count": null,
   "metadata": {},
   "outputs": [],
   "source": [
    "with tf.Session() as session:\n",
    "    session.run(init_op)\n",
    "    for i in range(2000):\n",
    "        session.run(train_op, feed_dict={_x: x_train, _y: y_train})\n",
    "        loss, precision = session.run([loss_op, precision_op], feed_dict={_x: x_train, _y: y_train})\n",
    "        loss_test, precision_test = session.run([loss_op, precision_op], feed_dict={_x: x_test, _y: y_test})\n",
    "        if i % 100 == 0:\n",
    "            print('epoch: ', '%04d' % (i + 1), 'loss: ', \"{:.4f}\".format(loss), 'acc: ', \"{:.4f}\".format(precision),\n",
    "                  'loss_test: ', \"{:.4f}\".format(loss_test), 'acc_test: ', \"{:.4f}\".format(precision_test))\n",
    "    #保存模型\n",
    "    builder = tf.saved_model.builder.SavedModelBuilder('d:/tmp/abc')\n",
    "    builder.add_meta_graph_and_variables(\n",
    "        session,\n",
    "        [tf.saved_model.tag_constants.SERVING]\n",
    "    )\n",
    "    builder.save()"
   ]
  },
  {
   "cell_type": "code",
   "execution_count": null,
   "metadata": {
    "collapsed": true
   },
   "outputs": [],
   "source": []
  }
 ],
 "metadata": {
  "kernelspec": {
   "display_name": "Python 3",
   "language": "python",
   "name": "python3"
  },
  "language_info": {
   "codemirror_mode": {
    "name": "ipython",
    "version": 3
   },
   "file_extension": ".py",
   "mimetype": "text/x-python",
   "name": "python",
   "nbconvert_exporter": "python",
   "pygments_lexer": "ipython3",
   "version": "3.6.3"
  }
 },
 "nbformat": 4,
 "nbformat_minor": 2
}
