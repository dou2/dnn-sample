{
 "cells": [
  {
   "cell_type": "code",
   "execution_count": 1,
   "metadata": {
    "collapsed": true
   },
   "outputs": [],
   "source": [
    "import tensorflow as tf\n",
    "from tensorflow import keras\n",
    "import matplotlib.pyplot as plt"
   ]
  },
  {
   "cell_type": "code",
   "execution_count": 2,
   "metadata": {
    "collapsed": true
   },
   "outputs": [],
   "source": [
    "# 学习速率\n",
    "learning_rate = 0.0005\n",
    "# 迭代次数\n",
    "num_epoch = 3\n",
    "# 批量大小\n",
    "batch_size = 128\n",
    "# 图片大小\n",
    "img_width = 28\n",
    "img_height = 28\n",
    "# 分类数\n",
    "num_classes = 10"
   ]
  },
  {
   "cell_type": "code",
   "execution_count": 3,
   "metadata": {
    "collapsed": true
   },
   "outputs": [],
   "source": [
    "# x，y占位\n",
    "X = tf.placeholder(tf.float32, [None, img_height, img_width])\n",
    "Y = tf.placeholder(tf.float32, [None, num_classes])\n",
    "\n",
    "x_input = tf.reshape(X, [-1, img_height, img_width, 1])"
   ]
  },
  {
   "cell_type": "code",
   "execution_count": 4,
   "metadata": {
    "collapsed": true
   },
   "outputs": [],
   "source": [
    "def conv2d(x, W):\n",
    "    return tf.nn.conv2d(x, W, strides=[1, 1, 1, 1], padding='VALID')\n",
    "\n",
    "def max_pool_2x2(x):\n",
    "    return tf.nn.max_pool(x, ksize=[1, 2, 2, 1], strides=[1, 2, 2, 1], padding='VALID')"
   ]
  },
  {
   "cell_type": "code",
   "execution_count": 5,
   "metadata": {
    "collapsed": true
   },
   "outputs": [],
   "source": [
    "def weight_variable(shape):\n",
    "    initial = tf.truncated_normal(shape, stddev=0.1, dtype=tf.float32)\n",
    "    return tf.Variable(initial, dtype=tf.float32)\n",
    "\n",
    "def bias_variable(shape):\n",
    "    initial = tf.constant(0.1, shape=shape, dtype=tf.float32)\n",
    "    return tf.Variable(initial, dtype=tf.float32)"
   ]
  },
  {
   "cell_type": "code",
   "execution_count": 6,
   "metadata": {
    "collapsed": true
   },
   "outputs": [],
   "source": [
    "# 在5*5的patch中计算出32个特征\n",
    "W_conv1 = weight_variable([5, 5, 1, 32])\n",
    "b_conv1 = bias_variable([32])"
   ]
  },
  {
   "cell_type": "code",
   "execution_count": 7,
   "metadata": {},
   "outputs": [
    {
     "name": "stdout",
     "output_type": "stream",
     "text": [
      "Tensor(\"Relu:0\", shape=(?, 24, 24, 32), dtype=float32)\n",
      "Tensor(\"MaxPool:0\", shape=(?, 12, 12, 32), dtype=float32)\n"
     ]
    }
   ],
   "source": [
    "h_conv1 = tf.nn.relu(tf.nn.bias_add(conv2d(x_input, W_conv1), b_conv1))\n",
    "print(h_conv1)\n",
    "h_pool1 = max_pool_2x2(h_conv1)\n",
    "print(h_pool1)"
   ]
  },
  {
   "cell_type": "code",
   "execution_count": 8,
   "metadata": {
    "collapsed": true
   },
   "outputs": [],
   "source": [
    "# 全连接层，将整个图片的特征，由6272个特征，缩小到1024个特征\n",
    "W_fc1 = weight_variable([12 * 12 * 32, 1024])\n",
    "b_fc1 = bias_variable([1024])\n",
    "\n",
    "h_pool_flat = tf.reshape(h_pool1, [-1, 12*12*32])\n",
    "h_fc1 = tf.nn.relu(tf.matmul(h_pool_flat, W_fc1) + b_fc1)"
   ]
  },
  {
   "cell_type": "code",
   "execution_count": 9,
   "metadata": {},
   "outputs": [
    {
     "name": "stdout",
     "output_type": "stream",
     "text": [
      "Tensor(\"dropout/mul:0\", shape=(?, 1024), dtype=float32)\n"
     ]
    }
   ],
   "source": [
    "keep_prob = tf.placeholder(tf.float32)\n",
    "h_fc1_drop = tf.nn.dropout(h_fc1, keep_prob)\n",
    "\n",
    "print(h_fc1_drop)"
   ]
  },
  {
   "cell_type": "code",
   "execution_count": 10,
   "metadata": {},
   "outputs": [
    {
     "name": "stdout",
     "output_type": "stream",
     "text": [
      "Tensor(\"Softmax:0\", shape=(?, 10), dtype=float32)\n"
     ]
    }
   ],
   "source": [
    "W_fc2 = weight_variable([1024, 10])\n",
    "b_fc2 = bias_variable([10])\n",
    "\n",
    "logits = tf.matmul(h_fc1_drop, W_fc2) + b_fc2\n",
    "y_predict=tf.nn.softmax(logits)\n",
    "print(y_predict)"
   ]
  },
  {
   "cell_type": "code",
   "execution_count": 12,
   "metadata": {},
   "outputs": [],
   "source": [
    "# 损失函数\n",
    "tf.nn.sparse_softmax_cross_entropy_with_logits\n",
    "loss_op = tf.reduce_mean(tf.nn.softmax_cross_entropy_with_logits_v2(logits=logits, labels=Y))\n",
    "# 训练方法\n",
    "train_op = tf.train.AdamOptimizer(learning_rate).minimize(loss_op)\n",
    "# 初始化\n",
    "init = tf.global_variables_initializer()"
   ]
  },
  {
   "cell_type": "code",
   "execution_count": 13,
   "metadata": {
    "collapsed": true
   },
   "outputs": [],
   "source": [
    "# argmax最大值index，axis=0纵向，axis=1横向\n",
    "correct_predict = tf.equal(tf.argmax(y_predict, axis=1), tf.argmax(Y, axis=1))\n",
    "accuracy = tf.reduce_mean(tf.cast(correct_predict, tf.float32))"
   ]
  },
  {
   "cell_type": "code",
   "execution_count": 14,
   "metadata": {},
   "outputs": [
    {
     "name": "stdout",
     "output_type": "stream",
     "text": [
      "(60000, 28, 28)\n"
     ]
    }
   ],
   "source": [
    "(x_train, y_train), (x_test, y_test) = keras.datasets.mnist.load_data()\n",
    "print(x_train.shape)"
   ]
  },
  {
   "cell_type": "code",
   "execution_count": 15,
   "metadata": {
    "collapsed": true
   },
   "outputs": [],
   "source": [
    "x_train = x_train / 255\n",
    "x_test = x_test / 255"
   ]
  },
  {
   "cell_type": "code",
   "execution_count": 16,
   "metadata": {
    "collapsed": true
   },
   "outputs": [],
   "source": [
    "num_examples = x_train.shape[0]\n",
    "total_batch = int(num_examples/batch_size)"
   ]
  },
  {
   "cell_type": "code",
   "execution_count": 17,
   "metadata": {
    "collapsed": true
   },
   "outputs": [],
   "source": [
    "# One-Hot编码\n",
    "y_train = keras.utils.to_categorical(y_train, num_classes)\n",
    "y_test = keras.utils.to_categorical(y_test, num_classes)"
   ]
  },
  {
   "cell_type": "code",
   "execution_count": 18,
   "metadata": {
    "collapsed": true
   },
   "outputs": [],
   "source": [
    "def next_batch(i):\n",
    "    a = i * batch_size\n",
    "    b = (i+1) * batch_size\n",
    "    return (x_train[a:b], y_train[a:b])"
   ]
  },
  {
   "cell_type": "code",
   "execution_count": 19,
   "metadata": {
    "scrolled": false
   },
   "outputs": [
    {
     "name": "stdout",
     "output_type": "stream",
     "text": [
      "Epoch: 0001 loss= 0.277917082 accuracy= 0.920255743\n",
      "Epoch: 0002 loss= 0.087215526 accuracy= 0.974108574\n",
      "Epoch: 0003 loss= 0.052230373 accuracy= 0.984391693\n",
      "Optimization Finished!\n"
     ]
    }
   ],
   "source": [
    "import numpy as np\n",
    "with tf.Session() as sess:\n",
    "    sess.run(init)\n",
    "    \n",
    "    for epoch in range(num_epoch):\n",
    "        avg_cost = 0.\n",
    "        avg_acc = 0.\n",
    "        for i in range(total_batch):\n",
    "            batch_xs, batch_ys = next_batch(i)\n",
    "            sess.run(train_op, feed_dict={X: batch_xs, Y: batch_ys, keep_prob: 0.5})\n",
    "            c, acc = sess.run([loss_op, accuracy], feed_dict={X: batch_xs, Y: batch_ys, keep_prob: 1.0})\n",
    "            # Compute average loss\n",
    "            avg_cost += c / total_batch\n",
    "            avg_acc += acc / total_batch\n",
    "        print(\"Epoch:\", '%04d' % (epoch+1), \"loss=\", \"{:.9f}\".format(avg_cost), \"accuracy=\", \"{:.9f}\".format(avg_acc))\n",
    "    print(\"Optimization Finished!\")"
   ]
  },
  {
   "cell_type": "code",
   "execution_count": null,
   "metadata": {
    "collapsed": true
   },
   "outputs": [],
   "source": []
  }
 ],
 "metadata": {
  "kernelspec": {
   "display_name": "Python 3",
   "language": "python",
   "name": "python3"
  },
  "language_info": {
   "codemirror_mode": {
    "name": "ipython",
    "version": 3
   },
   "file_extension": ".py",
   "mimetype": "text/x-python",
   "name": "python",
   "nbconvert_exporter": "python",
   "pygments_lexer": "ipython3",
   "version": "3.6.3"
  }
 },
 "nbformat": 4,
 "nbformat_minor": 2
}
