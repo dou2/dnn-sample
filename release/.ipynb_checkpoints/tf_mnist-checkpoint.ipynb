{
 "cells": [
  {
   "cell_type": "code",
   "execution_count": 1,
   "metadata": {},
   "outputs": [
    {
     "name": "stderr",
     "output_type": "stream",
     "text": [
      "Using TensorFlow backend.\n"
     ]
    }
   ],
   "source": [
    "import keras\n",
    "import matplotlib.pyplot as plt\n",
    "import tensorflow as tf\n",
    "from keras import datasets"
   ]
  },
  {
   "cell_type": "code",
   "execution_count": 2,
   "metadata": {
    "collapsed": true
   },
   "outputs": [],
   "source": [
    "num_epoch = 5\n",
    "batch_size = 128"
   ]
  },
  {
   "cell_type": "code",
   "execution_count": 3,
   "metadata": {
    "collapsed": true
   },
   "outputs": [],
   "source": [
    "# 加载数据集\n",
    "(X_train, y_train), (X_test, y_test) = datasets.mnist.load_data()"
   ]
  },
  {
   "cell_type": "code",
   "execution_count": 4,
   "metadata": {
    "collapsed": true
   },
   "outputs": [],
   "source": [
    "# min-max归一化\n",
    "X_train = X_train / 255\n",
    "X_test = X_test / 255\n",
    "\n",
    "X_train = X_train.reshape(60000, 784)\n",
    "X_test = X_test.reshape(10000, 784)\n",
    "\n",
    "y_train = keras.utils.to_categorical(y_train, 10)\n",
    "y_test = keras.utils.to_categorical(y_test, 10)\n",
    "\n",
    "num_examples = X_train.shape[0]\n",
    "total_batch = int(num_examples/batch_size)"
   ]
  },
  {
   "cell_type": "code",
   "execution_count": 5,
   "metadata": {},
   "outputs": [
    {
     "name": "stdout",
     "output_type": "stream",
     "text": [
      "Tensor(\"dense_2/Softmax:0\", shape=(?, 10), dtype=float32)\n"
     ]
    }
   ],
   "source": [
    "_x = tf.placeholder(dtype=tf.float32, shape=(None, 784))\n",
    "_y = tf.placeholder(dtype=tf.float32, shape=(None, 10))\n",
    "# 三个全连接层\n",
    "L1 = tf.layers.dense(units=512, activation=tf.nn.relu, inputs=_x)\n",
    "L2 = tf.layers.dense(units=256, activation=tf.nn.relu, inputs=L1)\n",
    "L3 = tf.layers.dense(units=10, activation=tf.nn.softmax, inputs=L2)\n",
    "print(L3)"
   ]
  },
  {
   "cell_type": "code",
   "execution_count": 6,
   "metadata": {},
   "outputs": [
    {
     "name": "stdout",
     "output_type": "stream",
     "text": [
      "Tensor(\"Neg:0\", shape=(), dtype=float32)\n"
     ]
    }
   ],
   "source": [
    "# 损失函数：交叉熵\n",
    "loss_op = - tf.reduce_mean(_y * tf.log(tf.clip_by_value(L3,1e-10, 1)))\n",
    "train_op = tf.train.AdamOptimizer(learning_rate=0.0005).minimize(loss_op)\n",
    "init_op = tf.global_variables_initializer()\n",
    "\n",
    "# 正确预测\n",
    "correct_predict = tf.equal(tf.argmax(L3, axis=1), tf.argmax(_y, axis=1))\n",
    "# 准确率\n",
    "acc_op = tf.reduce_mean(tf.cast(correct_predict, tf.float32))\n",
    "print(loss_op)"
   ]
  },
  {
   "cell_type": "code",
   "execution_count": 7,
   "metadata": {
    "collapsed": true
   },
   "outputs": [],
   "source": [
    "def next_batch(i):\n",
    "    a = i * batch_size\n",
    "    b = (i+1) * batch_size\n",
    "    return (X_train[a:b], y_train[a:b])"
   ]
  },
  {
   "cell_type": "code",
   "execution_count": 8,
   "metadata": {},
   "outputs": [
    {
     "name": "stdout",
     "output_type": "stream",
     "text": [
      "Epoch: 0001 loss= 0.027794102 accuracy= 0.924896501 test_loss= 0.014853272 test_accuracy= 0.953899980\n",
      "Epoch: 0002 loss= 0.010468065 accuracy= 0.970035390 test_loss= 0.010972422 test_accuracy= 0.964100003\n",
      "Epoch: 0003 loss= 0.006396540 accuracy= 0.981937767 test_loss= 0.008936489 test_accuracy= 0.970700026\n",
      "Epoch: 0004 loss= 0.004161438 accuracy= 0.989349626 test_loss= 0.007910130 test_accuracy= 0.975700021\n",
      "Epoch: 0005 loss= 0.002743818 accuracy= 0.993706597 test_loss= 0.007949500 test_accuracy= 0.976300001\n",
      "Optimization Finished!\n"
     ]
    }
   ],
   "source": [
    "with tf.Session() as sess:\n",
    "    sess.run(init_op)\n",
    "    \n",
    "    for epoch in range(num_epoch):\n",
    "        avg_cost = 0.\n",
    "        avg_acc = 0.\n",
    "        for i in range(total_batch):\n",
    "            batch_xs, batch_ys = next_batch(i)\n",
    "            sess.run(train_op, feed_dict={_x: batch_xs, _y: batch_ys})\n",
    "            c, acc = sess.run([loss_op, acc_op], feed_dict={_x: batch_xs, _y: batch_ys})\n",
    "            avg_cost += c / total_batch\n",
    "            avg_acc += acc / total_batch\n",
    "        c1, acc1 = sess.run([loss_op, acc_op], feed_dict={_x: X_test, _y: y_test})\n",
    "        print(\"Epoch:\", '%04d' % (epoch+1), \"loss=\", \"{:.9f}\".format(avg_cost), \"accuracy=\", \"{:.9f}\".format(avg_acc), \n",
    "              \"test_loss=\", \"{:.9f}\".format(c1), \"test_accuracy=\", \"{:.9f}\".format(acc1))\n",
    "    print(\"Optimization Finished!\")"
   ]
  },
  {
   "cell_type": "code",
   "execution_count": null,
   "metadata": {
    "collapsed": true
   },
   "outputs": [],
   "source": []
  }
 ],
 "metadata": {
  "kernelspec": {
   "display_name": "Python 3",
   "language": "python",
   "name": "python3"
  },
  "language_info": {
   "codemirror_mode": {
    "name": "ipython",
    "version": 3
   },
   "file_extension": ".py",
   "mimetype": "text/x-python",
   "name": "python",
   "nbconvert_exporter": "python",
   "pygments_lexer": "ipython3",
   "version": "3.6.3"
  }
 },
 "nbformat": 4,
 "nbformat_minor": 2
}
